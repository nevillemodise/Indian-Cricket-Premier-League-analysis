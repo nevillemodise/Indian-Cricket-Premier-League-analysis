{
 "cells": [
  {
   "cell_type": "markdown",
   "id": "639268ae",
   "metadata": {},
   "source": [
    "# Introduction to Data Visualisation and Exploration,COMS4060A"
   ]
  },
  {
   "cell_type": "markdown",
   "id": "d706687c",
   "metadata": {},
   "source": [
    "## Neville Modise  \n",
    "\n",
    "## Question 3  Indian Premier League"
   ]
  },
  {
   "cell_type": "markdown",
   "id": "6ad2365a",
   "metadata": {},
   "source": [
    "### 3.6 Match Summary Exploration"
   ]
  },
  {
   "cell_type": "code",
   "execution_count": 1,
   "id": "ea27a509",
   "metadata": {},
   "outputs": [],
   "source": [
    "# Import the numpy and pandas package\n",
    "import numpy as np\n",
    "import pandas as pd\n",
    "import matplotlib.pyplot as plt\n",
    "import seaborn as sns\n",
    "import warnings\n",
    "warnings.filterwarnings('ignore')"
   ]
  },
  {
   "cell_type": "code",
   "execution_count": 2,
   "id": "042dbad5",
   "metadata": {},
   "outputs": [],
   "source": [
    "cricket = pd.read_csv('all_matches.csv')"
   ]
  },
  {
   "cell_type": "code",
   "execution_count": 4,
   "id": "5718868f",
   "metadata": {},
   "outputs": [
    {
     "data": {
      "text/plain": [
       "match_id          0\n",
       "city             51\n",
       "match_date        0\n",
       "umpire1           0\n",
       "umpire2           0\n",
       "season            0\n",
       "team1             0\n",
       "team2             0\n",
       "toss_winner       0\n",
       "toss_decision     0\n",
       "venue             0\n",
       "winner            0\n",
       "mom               4\n",
       "inning1_bat       0\n",
       "inning2_bat       0\n",
       "dtype: int64"
      ]
     },
     "execution_count": 4,
     "metadata": {},
     "output_type": "execute_result"
    }
   ],
   "source": [
    "#Checking missing values\n",
    "cricket.isnull().sum()"
   ]
  },
  {
   "cell_type": "markdown",
   "id": "b51b1151",
   "metadata": {},
   "source": [
    "City has 54 missing values, mom has 4 missing values "
   ]
  },
  {
   "cell_type": "code",
   "execution_count": 5,
   "id": "2d9be6fc",
   "metadata": {},
   "outputs": [],
   "source": [
    "## Cleaning Data From NaN Values\n",
    "cricket['city'] = cricket['city'].fillna('Unknown city')\n",
    "cricket['mom'] = cricket['mom'].fillna('No Result')"
   ]
  },
  {
   "cell_type": "code",
   "execution_count": 6,
   "id": "da614b03",
   "metadata": {
    "scrolled": true
   },
   "outputs": [
    {
     "name": "stdout",
     "output_type": "stream",
     "text": [
      "['Chennai Super Kings' 'Delhi Capitals' 'Mumbai Indians' 'Kings XI Punjab'\n",
      " 'Kochi Tuskers Kerala' 'Royal Challengers Bangalore' 'Gujarat Titans'\n",
      " 'Punjab Kings' 'Kolkata Knight Riders' 'Delhi Daredevils' 'tie'\n",
      " 'Pune Warriors' 'Sunrisers Hyderabad' 'Lucknow Super Giants'\n",
      " 'Rajasthan Royals' 'Deccan Chargers' 'Gujarat Lions'\n",
      " 'Rising Pune Supergiants' 'no result' 'Rising Pune Supergiant']\n"
     ]
    }
   ],
   "source": [
    "# Overall Teams\n",
    "print(cricket['winner'].unique())"
   ]
  },
  {
   "cell_type": "markdown",
   "id": "a266c5ce",
   "metadata": {},
   "source": [
    "Some of the team names were mispelled, and some teams were ranmed, so we fix the team names below"
   ]
  },
  {
   "cell_type": "code",
   "execution_count": 7,
   "id": "b1488a99",
   "metadata": {},
   "outputs": [],
   "source": [
    "#renaming some teams\n",
    "cricket = cricket.replace(['Delhi Daredevils'],'Delhi Capitals')\n",
    "cricket = cricket.replace(['Rising Pune Supergiants'],'Rising Pune Supergiant')\n",
    "cricket = cricket.replace(['Deccan Chargers'],'Sunrisers Hyderabad')\n",
    "cricket = cricket.replace(['Kings XI Punjab'],'Punjab Kings')"
   ]
  },
  {
   "cell_type": "code",
   "execution_count": 8,
   "id": "0c21c9d6",
   "metadata": {},
   "outputs": [
    {
     "name": "stdout",
     "output_type": "stream",
     "text": [
      "['Chennai Super Kings' 'Delhi Capitals' 'Mumbai Indians' 'Punjab Kings'\n",
      " 'Kochi Tuskers Kerala' 'Royal Challengers Bangalore' 'Gujarat Titans'\n",
      " 'Kolkata Knight Riders' 'tie' 'Pune Warriors' 'Sunrisers Hyderabad'\n",
      " 'Lucknow Super Giants' 'Rajasthan Royals' 'Gujarat Lions'\n",
      " 'Rising Pune Supergiant' 'no result']\n"
     ]
    }
   ],
   "source": [
    "print(cricket['winner'].unique())"
   ]
  },
  {
   "cell_type": "markdown",
   "id": "d90ef2eb",
   "metadata": {},
   "source": [
    "It seems that there are 14 unique teams,"
   ]
  },
  {
   "cell_type": "code",
   "execution_count": 9,
   "id": "d445b69d",
   "metadata": {},
   "outputs": [],
   "source": [
    "# Here we will find various features for each team\n",
    "played = pd.concat([cricket['team1'],cricket['team2']], axis=0)\n",
    "played = played.value_counts().reset_index()\n",
    "played.columns =['Teams', 'Total Matches Played']\n",
    "played['winner'] = cricket['winner'].value_counts().reset_index()['winner']\n",
    "played['percentage'] = played['winner']/played['Total Matches Played']*100"
   ]
  },
  {
   "cell_type": "code",
   "execution_count": 10,
   "id": "4b6f3866",
   "metadata": {},
   "outputs": [
    {
     "data": {
      "text/plain": [
       "Text(0.5, 1.0, 'Team vs winning percentage')"
      ]
     },
     "execution_count": 10,
     "metadata": {},
     "output_type": "execute_result"
    },
    {
     "data": {
      "image/png": "[encoded data removed]",
      "text/plain": [
       "<Figure size 432x288 with 1 Axes>"
      ]
     },
     "metadata": {
      "needs_background": "light"
     },
     "output_type": "display_data"
    }
   ],
   "source": [
    "sns.barplot(x='Teams',y='percentage' , data=played).set_xticklabels(played['Teams'], rotation = 90)\n",
    "plt.title('Team vs winning percentage')"
   ]
  },
  {
   "cell_type": "markdown",
   "id": "0ea2cfeb",
   "metadata": {},
   "source": [
    "The plot showing the win percentage for all teams is shown above. We can see from the graph that Lucknow Super Giants have the highest winning percentage"
   ]
  },
  {
   "cell_type": "code",
   "execution_count": 11,
   "id": "42dc47d3",
   "metadata": {},
   "outputs": [
    {
     "data": {
      "text/html": [
       "<div>\n",
       "<style scoped>\n",
       "    .dataframe tbody tr th:only-of-type {\n",
       "        vertical-align: middle;\n",
       "    }\n",
       "\n",
       "    .dataframe tbody tr th {\n",
       "        vertical-align: top;\n",
       "    }\n",
       "\n",
       "    .dataframe thead th {\n",
       "        text-align: right;\n",
       "    }\n",
       "</style>\n",
       "<table border=\"1\" class=\"dataframe\">\n",
       "  <thead>\n",
       "    <tr style=\"text-align: right;\">\n",
       "      <th></th>\n",
       "      <th>season</th>\n",
       "      <th>winner</th>\n",
       "    </tr>\n",
       "  </thead>\n",
       "  <tbody>\n",
       "    <tr>\n",
       "      <th>1</th>\n",
       "      <td>2007/08</td>\n",
       "      <td>Chennai Super Kings</td>\n",
       "    </tr>\n",
       "    <tr>\n",
       "      <th>2</th>\n",
       "      <td>2009</td>\n",
       "      <td>Royal Challengers Bangalore</td>\n",
       "    </tr>\n",
       "    <tr>\n",
       "      <th>10</th>\n",
       "      <td>2009/10</td>\n",
       "      <td>Mumbai Indians</td>\n",
       "    </tr>\n",
       "    <tr>\n",
       "      <th>9</th>\n",
       "      <td>2011</td>\n",
       "      <td>Punjab Kings</td>\n",
       "    </tr>\n",
       "    <tr>\n",
       "      <th>0</th>\n",
       "      <td>2012</td>\n",
       "      <td>Mumbai Indians</td>\n",
       "    </tr>\n",
       "    <tr>\n",
       "      <th>13</th>\n",
       "      <td>2013</td>\n",
       "      <td>Chennai Super Kings</td>\n",
       "    </tr>\n",
       "    <tr>\n",
       "      <th>7</th>\n",
       "      <td>2014</td>\n",
       "      <td>Chennai Super Kings</td>\n",
       "    </tr>\n",
       "    <tr>\n",
       "      <th>5</th>\n",
       "      <td>2015</td>\n",
       "      <td>Chennai Super Kings</td>\n",
       "    </tr>\n",
       "    <tr>\n",
       "      <th>4</th>\n",
       "      <td>2016</td>\n",
       "      <td>Delhi Capitals</td>\n",
       "    </tr>\n",
       "    <tr>\n",
       "      <th>8</th>\n",
       "      <td>2017</td>\n",
       "      <td>Delhi Capitals</td>\n",
       "    </tr>\n",
       "    <tr>\n",
       "      <th>14</th>\n",
       "      <td>2018</td>\n",
       "      <td>Sunrisers Hyderabad</td>\n",
       "    </tr>\n",
       "    <tr>\n",
       "      <th>12</th>\n",
       "      <td>2019</td>\n",
       "      <td>Kolkata Knight Riders</td>\n",
       "    </tr>\n",
       "    <tr>\n",
       "      <th>11</th>\n",
       "      <td>2020/21</td>\n",
       "      <td>Royal Challengers Bangalore</td>\n",
       "    </tr>\n",
       "    <tr>\n",
       "      <th>3</th>\n",
       "      <td>2021</td>\n",
       "      <td>Delhi Capitals</td>\n",
       "    </tr>\n",
       "    <tr>\n",
       "      <th>6</th>\n",
       "      <td>2022</td>\n",
       "      <td>Gujarat Titans</td>\n",
       "    </tr>\n",
       "  </tbody>\n",
       "</table>\n",
       "</div>"
      ],
      "text/plain": [
       "     season                       winner\n",
       "1   2007/08          Chennai Super Kings\n",
       "2      2009  Royal Challengers Bangalore\n",
       "10  2009/10               Mumbai Indians\n",
       "9      2011                 Punjab Kings\n",
       "0      2012               Mumbai Indians\n",
       "13     2013          Chennai Super Kings\n",
       "7      2014          Chennai Super Kings\n",
       "5      2015          Chennai Super Kings\n",
       "4      2016               Delhi Capitals\n",
       "8      2017               Delhi Capitals\n",
       "14     2018          Sunrisers Hyderabad\n",
       "12     2019        Kolkata Knight Riders\n",
       "11  2020/21  Royal Challengers Bangalore\n",
       "3      2021               Delhi Capitals\n",
       "6      2022               Gujarat Titans"
      ]
     },
     "execution_count": 11,
     "metadata": {},
     "output_type": "execute_result"
    }
   ],
   "source": [
    "# we will print winner of each tournament\n",
    "season_winner=cricket.drop_duplicates(subset=['season'], keep='last')\n",
    "season_winner[['season','winner']].reset_index(drop=True).sort_values('season')\n"
   ]
  },
  {
   "cell_type": "markdown",
   "id": "22712b6c",
   "metadata": {},
   "source": [
    " By grouping the teams with the most wins for each season we were wable to determine the tournament winners winners as shown above.\n",
    " Gujarat Titans are the latest winners of the 2022 season."
   ]
  },
  {
   "cell_type": "code",
   "execution_count": 12,
   "id": "aa490258",
   "metadata": {},
   "outputs": [
    {
     "data": {
      "text/plain": [
       "field    599\n",
       "bat      351\n",
       "Name: toss_decision, dtype: int64"
      ]
     },
     "execution_count": 12,
     "metadata": {},
     "output_type": "execute_result"
    }
   ],
   "source": [
    "cricket.toss_decision.value_counts()"
   ]
  },
  {
   "cell_type": "markdown",
   "id": "9eff9cd7",
   "metadata": {},
   "source": [
    "The most frequent decision taken for the winner of the toss is fielding first (bowling)"
   ]
  },
  {
   "cell_type": "code",
   "execution_count": 13,
   "id": "d66afe74",
   "metadata": {},
   "outputs": [
    {
     "data": {
      "text/plain": [
       "483"
      ]
     },
     "execution_count": 13,
     "metadata": {},
     "output_type": "execute_result"
    }
   ],
   "source": [
    "toss=(cricket[\"toss_winner\"]==cricket[\"winner\"])\n",
    "toss.sum()"
   ]
  },
  {
   "cell_type": "markdown",
   "id": "5e094eb6",
   "metadata": {},
   "source": [
    "The winner of the toss also won the game 483 times"
   ]
  },
  {
   "cell_type": "code",
   "execution_count": 14,
   "id": "f216c9a0",
   "metadata": {
    "scrolled": true
   },
   "outputs": [
    {
     "data": {
      "image/png": "[encoded data removed]",
      "text/plain": [
       "<Figure size 1368x720 with 1 Axes>"
      ]
     },
     "metadata": {},
     "output_type": "display_data"
    }
   ],
   "source": [
    "sns.set(style='darkgrid')\n",
    "fig=plt.gcf()\n",
    "fig.set_size_inches(19,10)\n",
    "sns.countplot(cricket['venue'],order=cricket['venue'].value_counts().index,hue=cricket['toss_decision'])\n",
    "plt.title('Toss decision at each venue',fontsize=15)\n",
    "plt.yticks(fontsize=15)\n",
    "plt.xticks(fontsize=15,rotation=90)\n",
    "plt.xlabel('Venue',fontsize=15)\n",
    "plt.ylabel('Count',fontsize=15)\n",
    "plt.legend(loc=5,fontsize=15)\n",
    "plt.show()"
   ]
  },
  {
   "cell_type": "markdown",
   "id": "6e007599",
   "metadata": {},
   "source": [
    "The above plot shows the toss decision, venue wise. We can see how the toss decision changes at various venues"
   ]
  },
  {
   "cell_type": "markdown",
   "id": "5cead3d0",
   "metadata": {},
   "source": [
    "### 3.7 Team scores"
   ]
  },
  {
   "cell_type": "code",
   "execution_count": 15,
   "id": "41a90947",
   "metadata": {},
   "outputs": [],
   "source": [
    "delivery = pd.read_csv('all_deliveries.csv')"
   ]
  },
  {
   "cell_type": "code",
   "execution_count": 16,
   "id": "8728731f",
   "metadata": {},
   "outputs": [
    {
     "data": {
      "text/plain": [
       "match_id                 0\n",
       "over                     0\n",
       "ball_num                 0\n",
       "inning                   0\n",
       "is_pp                    0\n",
       "runs_total               0\n",
       "runs_extras              0\n",
       "extras_bowler            0\n",
       "extras_team              0\n",
       "runs_batter              0\n",
       "striker                  0\n",
       "non_striker              0\n",
       "bowler                   0\n",
       "how_out             214803\n",
       "player_dismissed    214803\n",
       "dtype: int64"
      ]
     },
     "execution_count": 16,
     "metadata": {},
     "output_type": "execute_result"
    }
   ],
   "source": [
    "#Checking missing values\n",
    "delivery.isnull().sum()"
   ]
  },
  {
   "cell_type": "code",
   "execution_count": 17,
   "id": "f6416344",
   "metadata": {},
   "outputs": [],
   "source": [
    "#fill in the misssing numbers with 0\n",
    "delivery.fillna(0,inplace=True)  "
   ]
  },
  {
   "cell_type": "markdown",
   "id": "5498bb2c",
   "metadata": {},
   "source": [
    "We now determine  and plot the total number of runs scored per match across the seasons."
   ]
  },
  {
   "cell_type": "code",
   "execution_count": 18,
   "id": "8bb0acd7",
   "metadata": {},
   "outputs": [
    {
     "data": {
      "image/png": "[encoded data removed]",
      "text/plain": [
       "<Figure size 432x288 with 1 Axes>"
      ]
     },
     "metadata": {},
     "output_type": "display_data"
    }
   ],
   "source": [
    "batsmen = cricket[['match_id','season']].merge(delivery, left_on = 'match_id', right_on = 'match_id', how = 'left').drop('match_id', axis = 1)\n",
    "season=batsmen.groupby(['season'])['runs_total'].sum().reset_index()\n",
    "season.set_index('season').plot()\n",
    "plt.title('total number of runs scored per match across the seasons')\n",
    "plt.show()\n"
   ]
  },
  {
   "cell_type": "markdown",
   "id": "d2e1551f",
   "metadata": {},
   "source": [
    "The total number of runs scored per match across the seasons are shown in the above plot. We can see that the total number runs are still increasing from 2008, despite decreasing from 2012 until 2021."
   ]
  },
  {
   "cell_type": "code",
   "execution_count": 19,
   "id": "27946a43",
   "metadata": {},
   "outputs": [
    {
     "data": {
      "image/png": "[encoded data removed]",
      "text/plain": [
       "<Figure size 432x288 with 1 Axes>"
      ]
     },
     "metadata": {},
     "output_type": "display_data"
    }
   ],
   "source": [
    "average_run_for_season=cricket.groupby(['season']).count().match_id.reset_index()\n",
    "average_run_for_season.rename(columns={'match_id':'matches'},inplace=1)\n",
    "average_run_for_season['runs_total']=season['runs_total']\n",
    "average_run_for_season['average_runs_per_match']=average_run_for_season['runs_total']/average_run_for_season['matches']\n",
    "average_run_for_season.set_index('season')['average_runs_per_match'].plot()\n",
    "plt.title('Average Runs per match across Seasons')\n",
    "plt.show()"
   ]
  },
  {
   "cell_type": "markdown",
   "id": "0995b4d2",
   "metadata": {},
   "source": [
    "The average number of runs scored per match in each season is shown above. We can see that the average runs per match across seasons flactuate\n",
    "almost every season/year."
   ]
  },
  {
   "cell_type": "code",
   "execution_count": 20,
   "id": "584d148d",
   "metadata": {},
   "outputs": [],
   "source": [
    "score_data=delivery.groupby(['match_id', 'inning'])['runs_total'].sum().reset_index()\n",
    "first_score=score_data[score_data['inning']==1]\n",
    "second_score=score_data[score_data['inning']==2]\n",
    "first_score=first_score.merge(second_score[['match_id','inning', 'runs_total']], on='match_id')\n",
    "first_score.rename(columns={'inning_x':'inning_1','inning_y':'inning_2','total_runs_x':'inning1_runs','total_runs_y':'inning2_runs'},inplace=True)\n",
    "first_score=first_score[first_score['runs_total_x']>190]\n",
    "first_score['is_score_chased']=1\n",
    "first_score['is_score_chased'] = np.where(first_score['runs_total_x']<=first_score['runs_total_y'], 'yes', 'no')"
   ]
  },
  {
   "cell_type": "code",
   "execution_count": 21,
   "id": "af42f337",
   "metadata": {},
   "outputs": [],
   "source": [
    "score_data=delivery.groupby(['match_id', 'inning'])['runs_total'].sum().reset_index() "
   ]
  },
  {
   "cell_type": "code",
   "execution_count": 22,
   "id": "737c87ed",
   "metadata": {},
   "outputs": [
    {
     "data": {
      "image/png": "[encoded data removed]",
      "text/plain": [
       "<Figure size 432x288 with 1 Axes>"
      ]
     },
     "metadata": {},
     "output_type": "display_data"
    }
   ],
   "source": [
    "pie_chart=first_score['is_score_chased'].value_counts().reset_index().is_score_chased\n",
    "list(pie_chart)\n",
    "labels=['not chasing','chasing']\n",
    "plt.pie(pie_chart,labels=labels,startangle=90,autopct='%1.1f%%')\n",
    "plt.show()"
   ]
  },
  {
   "cell_type": "markdown",
   "id": "3df4b07a",
   "metadata": {},
   "source": [
    "if 1st innings total is above 190, you have higher chance of winning the match i.e you have 79.6% chance of winning"
   ]
  },
  {
   "cell_type": "code",
   "execution_count": 23,
   "id": "1100fa5d",
   "metadata": {},
   "outputs": [
    {
     "data": {
      "text/plain": [
       "0    125\n",
       "1     32\n",
       "Name: is_score_chased, dtype: int64"
      ]
     },
     "execution_count": 23,
     "metadata": {},
     "output_type": "execute_result"
    }
   ],
   "source": [
    "first_score['is_score_chased'].value_counts().reset_index().is_score_chased"
   ]
  },
  {
   "cell_type": "code",
   "execution_count": 24,
   "id": "b43f13c4",
   "metadata": {},
   "outputs": [],
   "source": [
    "season_data=cricket[['match_id','season','winner']]\n",
    "wholedf=delivery.merge(season_data,how='inner',left_on='match_id',right_on='match_id')"
   ]
  },
  {
   "cell_type": "code",
   "execution_count": 25,
   "id": "787bbf77",
   "metadata": {},
   "outputs": [],
   "source": [
    "# we will print no of sixes hit by team\n",
    "sixdf=wholedf[wholedf['runs_batter']==6]"
   ]
  },
  {
   "cell_type": "code",
   "execution_count": 26,
   "id": "0b2b7b41",
   "metadata": {},
   "outputs": [
    {
     "data": {
      "text/html": [
       "<div>\n",
       "<style scoped>\n",
       "    .dataframe tbody tr th:only-of-type {\n",
       "        vertical-align: middle;\n",
       "    }\n",
       "\n",
       "    .dataframe tbody tr th {\n",
       "        vertical-align: top;\n",
       "    }\n",
       "\n",
       "    .dataframe thead th {\n",
       "        text-align: right;\n",
       "    }\n",
       "</style>\n",
       "<table border=\"1\" class=\"dataframe\">\n",
       "  <thead>\n",
       "    <tr style=\"text-align: right;\">\n",
       "      <th></th>\n",
       "      <th>season</th>\n",
       "      <th>six</th>\n",
       "    </tr>\n",
       "  </thead>\n",
       "  <tbody>\n",
       "    <tr>\n",
       "      <th>0</th>\n",
       "      <td>2007/08</td>\n",
       "      <td>623</td>\n",
       "    </tr>\n",
       "    <tr>\n",
       "      <th>1</th>\n",
       "      <td>2009</td>\n",
       "      <td>508</td>\n",
       "    </tr>\n",
       "    <tr>\n",
       "      <th>2</th>\n",
       "      <td>2009/10</td>\n",
       "      <td>587</td>\n",
       "    </tr>\n",
       "    <tr>\n",
       "      <th>3</th>\n",
       "      <td>2011</td>\n",
       "      <td>639</td>\n",
       "    </tr>\n",
       "    <tr>\n",
       "      <th>4</th>\n",
       "      <td>2012</td>\n",
       "      <td>733</td>\n",
       "    </tr>\n",
       "    <tr>\n",
       "      <th>5</th>\n",
       "      <td>2013</td>\n",
       "      <td>681</td>\n",
       "    </tr>\n",
       "    <tr>\n",
       "      <th>6</th>\n",
       "      <td>2014</td>\n",
       "      <td>715</td>\n",
       "    </tr>\n",
       "    <tr>\n",
       "      <th>7</th>\n",
       "      <td>2015</td>\n",
       "      <td>692</td>\n",
       "    </tr>\n",
       "    <tr>\n",
       "      <th>8</th>\n",
       "      <td>2016</td>\n",
       "      <td>639</td>\n",
       "    </tr>\n",
       "    <tr>\n",
       "      <th>9</th>\n",
       "      <td>2017</td>\n",
       "      <td>706</td>\n",
       "    </tr>\n",
       "    <tr>\n",
       "      <th>10</th>\n",
       "      <td>2018</td>\n",
       "      <td>872</td>\n",
       "    </tr>\n",
       "    <tr>\n",
       "      <th>11</th>\n",
       "      <td>2019</td>\n",
       "      <td>786</td>\n",
       "    </tr>\n",
       "    <tr>\n",
       "      <th>12</th>\n",
       "      <td>2020/21</td>\n",
       "      <td>736</td>\n",
       "    </tr>\n",
       "    <tr>\n",
       "      <th>13</th>\n",
       "      <td>2021</td>\n",
       "      <td>687</td>\n",
       "    </tr>\n",
       "    <tr>\n",
       "      <th>14</th>\n",
       "      <td>2022</td>\n",
       "      <td>1062</td>\n",
       "    </tr>\n",
       "  </tbody>\n",
       "</table>\n",
       "</div>"
      ],
      "text/plain": [
       "     season   six\n",
       "0   2007/08   623\n",
       "1      2009   508\n",
       "2   2009/10   587\n",
       "3      2011   639\n",
       "4      2012   733\n",
       "5      2013   681\n",
       "6      2014   715\n",
       "7      2015   692\n",
       "8      2016   639\n",
       "9      2017   706\n",
       "10     2018   872\n",
       "11     2019   786\n",
       "12  2020/21   736\n",
       "13     2021   687\n",
       "14     2022  1062"
      ]
     },
     "execution_count": 26,
     "metadata": {},
     "output_type": "execute_result"
    }
   ],
   "source": [
    "#total number of sixes in each season\n",
    "sixdf.groupby('season')['runs_batter'].agg([('six','count')]).reset_index()"
   ]
  },
  {
   "cell_type": "markdown",
   "id": "c9898f24",
   "metadata": {},
   "source": [
    "The total number of sixes hit in each season is shown above."
   ]
  },
  {
   "cell_type": "markdown",
   "id": "8e4b7dde",
   "metadata": {},
   "source": [
    "### 3.8 Batting"
   ]
  },
  {
   "cell_type": "code",
   "execution_count": 27,
   "id": "01d9354c",
   "metadata": {},
   "outputs": [],
   "source": [
    "deliveries = pd.read_csv('all_deliveries.csv')\n",
    "strikerdf = deliveries.groupby([\"match_id\", \"inning\", \"striker\"])\n",
    "batsmen = strikerdf[\"runs_batter\"].sum().reset_index()\n",
    "deliver_faced = deliveries.groupby([\"match_id\", \"inning\", \"striker\"])[\"ball_num\"].count().reset_index()\n",
    "deliver_faced.columns = [\"match_id\", \"inning\", \"striker\", \"deliver_faced\"]\n",
    "batsmen = batsmen.merge(deliver_faced, left_on=[\"match_id\", \"inning\", \"striker\"], \n",
    "                        right_on=[\"match_id\", \"inning\", \"striker\"], how=\"left\")\n",
    "fours = deliveries[ deliveries[\"runs_batter\"] == 4]\n",
    "sixes = deliveries[ deliveries[\"runs_batter\"] == 6]\n",
    "bat_four_df = fours.groupby([\"match_id\", \"inning\", \"striker\"])[\"runs_batter\"].count().reset_index()\n",
    "bat_six_df = sixes.groupby([\"match_id\", \"inning\", \"striker\"])[\"runs_batter\"].count().reset_index()\n",
    "bat_four_df.columns = [\"match_id\", \"inning\", \"striker\", \"4s\"]\n",
    "bat_six_df.columns = [\"match_id\", \"inning\", \"striker\", \"6s\"]\n",
    "batsmen = batsmen.merge(bat_four_df, left_on=[\"match_id\", \"inning\", \"striker\"], \n",
    "                        right_on=[\"match_id\", \"inning\", \"striker\"], how=\"left\")\n",
    "batsmen = batsmen.merge(bat_six_df, left_on=[\"match_id\", \"inning\", \"striker\"], \n",
    "                        right_on=[\"match_id\", \"inning\", \"striker\"], how=\"left\")\n",
    "for col in [\"runs_batter\", \"4s\", \"6s\",\"deliver_faced\"]:\n",
    "    batsmen[col] = batsmen[col].fillna(0)"
   ]
  },
  {
   "cell_type": "code",
   "execution_count": 28,
   "id": "5cef6326",
   "metadata": {},
   "outputs": [
    {
     "data": {
      "text/html": [
       "<div>\n",
       "<style scoped>\n",
       "    .dataframe tbody tr th:only-of-type {\n",
       "        vertical-align: middle;\n",
       "    }\n",
       "\n",
       "    .dataframe tbody tr th {\n",
       "        vertical-align: top;\n",
       "    }\n",
       "\n",
       "    .dataframe thead th {\n",
       "        text-align: right;\n",
       "    }\n",
       "</style>\n",
       "<table border=\"1\" class=\"dataframe\">\n",
       "  <thead>\n",
       "    <tr style=\"text-align: right;\">\n",
       "      <th></th>\n",
       "      <th>match_id</th>\n",
       "      <th>inning</th>\n",
       "      <th>striker</th>\n",
       "      <th>runs_batter</th>\n",
       "      <th>deliver_faced</th>\n",
       "      <th>4s</th>\n",
       "      <th>6s</th>\n",
       "    </tr>\n",
       "  </thead>\n",
       "  <tbody>\n",
       "    <tr>\n",
       "      <th>0</th>\n",
       "      <td>335982</td>\n",
       "      <td>1</td>\n",
       "      <td>BB McCullum</td>\n",
       "      <td>158</td>\n",
       "      <td>77</td>\n",
       "      <td>10.0</td>\n",
       "      <td>13.0</td>\n",
       "    </tr>\n",
       "    <tr>\n",
       "      <th>1</th>\n",
       "      <td>335982</td>\n",
       "      <td>1</td>\n",
       "      <td>DJ Hussey</td>\n",
       "      <td>12</td>\n",
       "      <td>12</td>\n",
       "      <td>1.0</td>\n",
       "      <td>0.0</td>\n",
       "    </tr>\n",
       "    <tr>\n",
       "      <th>2</th>\n",
       "      <td>335982</td>\n",
       "      <td>1</td>\n",
       "      <td>Mohammad Hafeez</td>\n",
       "      <td>5</td>\n",
       "      <td>3</td>\n",
       "      <td>1.0</td>\n",
       "      <td>0.0</td>\n",
       "    </tr>\n",
       "    <tr>\n",
       "      <th>3</th>\n",
       "      <td>335982</td>\n",
       "      <td>1</td>\n",
       "      <td>RT Ponting</td>\n",
       "      <td>20</td>\n",
       "      <td>20</td>\n",
       "      <td>1.0</td>\n",
       "      <td>1.0</td>\n",
       "    </tr>\n",
       "    <tr>\n",
       "      <th>4</th>\n",
       "      <td>335982</td>\n",
       "      <td>1</td>\n",
       "      <td>SC Ganguly</td>\n",
       "      <td>10</td>\n",
       "      <td>12</td>\n",
       "      <td>2.0</td>\n",
       "      <td>0.0</td>\n",
       "    </tr>\n",
       "  </tbody>\n",
       "</table>\n",
       "</div>"
      ],
      "text/plain": [
       "   match_id  inning          striker  runs_batter  deliver_faced    4s    6s\n",
       "0    335982       1      BB McCullum          158             77  10.0  13.0\n",
       "1    335982       1        DJ Hussey           12             12   1.0   0.0\n",
       "2    335982       1  Mohammad Hafeez            5              3   1.0   0.0\n",
       "3    335982       1       RT Ponting           20             20   1.0   1.0\n",
       "4    335982       1       SC Ganguly           10             12   2.0   0.0"
      ]
     },
     "execution_count": 28,
     "metadata": {},
     "output_type": "execute_result"
    }
   ],
   "source": [
    "batsmen.head()"
   ]
  },
  {
   "cell_type": "markdown",
   "id": "f14d7f62",
   "metadata": {},
   "source": [
    "The total number of runs, 4s,6s and deliveries of each player in each match are shown above"
   ]
  },
  {
   "cell_type": "code",
   "execution_count": 29,
   "id": "86f92ec3",
   "metadata": {},
   "outputs": [
    {
     "data": {
      "text/html": [
       "<div>\n",
       "<style scoped>\n",
       "    .dataframe tbody tr th:only-of-type {\n",
       "        vertical-align: middle;\n",
       "    }\n",
       "\n",
       "    .dataframe tbody tr th {\n",
       "        vertical-align: top;\n",
       "    }\n",
       "\n",
       "    .dataframe thead th {\n",
       "        text-align: right;\n",
       "    }\n",
       "</style>\n",
       "<table border=\"1\" class=\"dataframe\">\n",
       "  <thead>\n",
       "    <tr style=\"text-align: right;\">\n",
       "      <th></th>\n",
       "      <th>striker</th>\n",
       "      <th>runs_batter</th>\n",
       "    </tr>\n",
       "  </thead>\n",
       "  <tbody>\n",
       "    <tr>\n",
       "      <th>0</th>\n",
       "      <td>V Kohli</td>\n",
       "      <td>6634</td>\n",
       "    </tr>\n",
       "    <tr>\n",
       "      <th>1</th>\n",
       "      <td>S Dhawan</td>\n",
       "      <td>6244</td>\n",
       "    </tr>\n",
       "    <tr>\n",
       "      <th>2</th>\n",
       "      <td>DA Warner</td>\n",
       "      <td>5883</td>\n",
       "    </tr>\n",
       "    <tr>\n",
       "      <th>3</th>\n",
       "      <td>RG Sharma</td>\n",
       "      <td>5881</td>\n",
       "    </tr>\n",
       "    <tr>\n",
       "      <th>4</th>\n",
       "      <td>SK Raina</td>\n",
       "      <td>5536</td>\n",
       "    </tr>\n",
       "  </tbody>\n",
       "</table>\n",
       "</div>"
      ],
      "text/plain": [
       "     striker  runs_batter\n",
       "0    V Kohli         6634\n",
       "1   S Dhawan         6244\n",
       "2  DA Warner         5883\n",
       "3  RG Sharma         5881\n",
       "4   SK Raina         5536"
      ]
     },
     "execution_count": 29,
     "metadata": {},
     "output_type": "execute_result"
    }
   ],
   "source": [
    "Batsman_score=deliveries.groupby('striker')[\"runs_batter\"].agg(sum).reset_index().sort_values(by=\"runs_batter\",ascending=False).reset_index(drop=True)\n",
    "Batsman_score.head()"
   ]
  },
  {
   "cell_type": "markdown",
   "id": "a0f9a65e",
   "metadata": {},
   "source": [
    "The total runs are shown above in in the runs_batter column"
   ]
  },
  {
   "cell_type": "code",
   "execution_count": 30,
   "id": "c1c84da2",
   "metadata": {},
   "outputs": [
    {
     "data": {
      "text/html": [
       "<div>\n",
       "<style scoped>\n",
       "    .dataframe tbody tr th:only-of-type {\n",
       "        vertical-align: middle;\n",
       "    }\n",
       "\n",
       "    .dataframe tbody tr th {\n",
       "        vertical-align: top;\n",
       "    }\n",
       "\n",
       "    .dataframe thead th {\n",
       "        text-align: right;\n",
       "    }\n",
       "</style>\n",
       "<table border=\"1\" class=\"dataframe\">\n",
       "  <thead>\n",
       "    <tr style=\"text-align: right;\">\n",
       "      <th></th>\n",
       "      <th>striker</th>\n",
       "      <th>ball_num</th>\n",
       "    </tr>\n",
       "  </thead>\n",
       "  <tbody>\n",
       "    <tr>\n",
       "      <th>0</th>\n",
       "      <td>V Kohli</td>\n",
       "      <td>5266</td>\n",
       "    </tr>\n",
       "    <tr>\n",
       "      <th>1</th>\n",
       "      <td>S Dhawan</td>\n",
       "      <td>5083</td>\n",
       "    </tr>\n",
       "    <tr>\n",
       "      <th>2</th>\n",
       "      <td>RG Sharma</td>\n",
       "      <td>4632</td>\n",
       "    </tr>\n",
       "    <tr>\n",
       "      <th>3</th>\n",
       "      <td>DA Warner</td>\n",
       "      <td>4313</td>\n",
       "    </tr>\n",
       "    <tr>\n",
       "      <th>4</th>\n",
       "      <td>SK Raina</td>\n",
       "      <td>4177</td>\n",
       "    </tr>\n",
       "  </tbody>\n",
       "</table>\n",
       "</div>"
      ],
      "text/plain": [
       "     striker  ball_num\n",
       "0    V Kohli      5266\n",
       "1   S Dhawan      5083\n",
       "2  RG Sharma      4632\n",
       "3  DA Warner      4313\n",
       "4   SK Raina      4177"
      ]
     },
     "execution_count": 30,
     "metadata": {},
     "output_type": "execute_result"
    }
   ],
   "source": [
    "bat_ball_face=deliveries.groupby(['striker'])[\"ball_num\"].count().reset_index().sort_values(by=\"ball_num\",ascending=False).reset_index(drop=True)\n",
    "bat_ball_face.head()"
   ]
  },
  {
   "cell_type": "markdown",
   "id": "26d8d85c",
   "metadata": {},
   "source": [
    "The total number of deliveries are shown above in the ball_num column"
   ]
  },
  {
   "cell_type": "code",
   "execution_count": 31,
   "id": "06316a42",
   "metadata": {},
   "outputs": [
    {
     "data": {
      "text/html": [
       "<div>\n",
       "<style scoped>\n",
       "    .dataframe tbody tr th:only-of-type {\n",
       "        vertical-align: middle;\n",
       "    }\n",
       "\n",
       "    .dataframe tbody tr th {\n",
       "        vertical-align: top;\n",
       "    }\n",
       "\n",
       "    .dataframe thead th {\n",
       "        text-align: right;\n",
       "    }\n",
       "</style>\n",
       "<table border=\"1\" class=\"dataframe\">\n",
       "  <thead>\n",
       "    <tr style=\"text-align: right;\">\n",
       "      <th></th>\n",
       "      <th>striker</th>\n",
       "      <th>Number of 4s</th>\n",
       "    </tr>\n",
       "  </thead>\n",
       "  <tbody>\n",
       "    <tr>\n",
       "      <th>0</th>\n",
       "      <td>S Dhawan</td>\n",
       "      <td>701</td>\n",
       "    </tr>\n",
       "    <tr>\n",
       "      <th>1</th>\n",
       "      <td>V Kohli</td>\n",
       "      <td>581</td>\n",
       "    </tr>\n",
       "    <tr>\n",
       "      <th>2</th>\n",
       "      <td>DA Warner</td>\n",
       "      <td>577</td>\n",
       "    </tr>\n",
       "    <tr>\n",
       "      <th>3</th>\n",
       "      <td>RG Sharma</td>\n",
       "      <td>519</td>\n",
       "    </tr>\n",
       "    <tr>\n",
       "      <th>4</th>\n",
       "      <td>SK Raina</td>\n",
       "      <td>506</td>\n",
       "    </tr>\n",
       "  </tbody>\n",
       "</table>\n",
       "</div>"
      ],
      "text/plain": [
       "     striker  Number of 4s\n",
       "0   S Dhawan           701\n",
       "1    V Kohli           581\n",
       "2  DA Warner           577\n",
       "3  RG Sharma           519\n",
       "4   SK Raina           506"
      ]
     },
     "execution_count": 31,
     "metadata": {},
     "output_type": "execute_result"
    }
   ],
   "source": [
    "batter_four=deliveries.groupby(['striker'])[\"runs_batter\"].agg(lambda x: (x==4).sum()).reset_index().sort_values(by=\"runs_batter\",ascending=False).reset_index(drop=True)\n",
    "batter_four.columns = [\"striker\", \"Number of 4s\"]\n",
    "batter_four.head()"
   ]
  },
  {
   "cell_type": "markdown",
   "id": "186c58cf",
   "metadata": {},
   "source": [
    "The total number of fours are shown above"
   ]
  },
  {
   "cell_type": "code",
   "execution_count": 32,
   "id": "b1cab6ca",
   "metadata": {},
   "outputs": [
    {
     "data": {
      "text/html": [
       "<div>\n",
       "<style scoped>\n",
       "    .dataframe tbody tr th:only-of-type {\n",
       "        vertical-align: middle;\n",
       "    }\n",
       "\n",
       "    .dataframe tbody tr th {\n",
       "        vertical-align: top;\n",
       "    }\n",
       "\n",
       "    .dataframe thead th {\n",
       "        text-align: right;\n",
       "    }\n",
       "</style>\n",
       "<table border=\"1\" class=\"dataframe\">\n",
       "  <thead>\n",
       "    <tr style=\"text-align: right;\">\n",
       "      <th></th>\n",
       "      <th>striker</th>\n",
       "      <th>Number of 6s</th>\n",
       "    </tr>\n",
       "  </thead>\n",
       "  <tbody>\n",
       "    <tr>\n",
       "      <th>0</th>\n",
       "      <td>Z Khan</td>\n",
       "      <td>2</td>\n",
       "    </tr>\n",
       "    <tr>\n",
       "      <th>1</th>\n",
       "      <td>Yuvraj Singh</td>\n",
       "      <td>149</td>\n",
       "    </tr>\n",
       "    <tr>\n",
       "      <th>2</th>\n",
       "      <td>Younis Khan</td>\n",
       "      <td>0</td>\n",
       "    </tr>\n",
       "    <tr>\n",
       "      <th>3</th>\n",
       "      <td>Yashpal Singh</td>\n",
       "      <td>0</td>\n",
       "    </tr>\n",
       "    <tr>\n",
       "      <th>4</th>\n",
       "      <td>Yash Dayal</td>\n",
       "      <td>0</td>\n",
       "    </tr>\n",
       "  </tbody>\n",
       "</table>\n",
       "</div>"
      ],
      "text/plain": [
       "         striker  Number of 6s\n",
       "0         Z Khan             2\n",
       "1   Yuvraj Singh           149\n",
       "2    Younis Khan             0\n",
       "3  Yashpal Singh             0\n",
       "4     Yash Dayal             0"
      ]
     },
     "execution_count": 32,
     "metadata": {},
     "output_type": "execute_result"
    }
   ],
   "source": [
    "batter_six=deliveries.groupby(\"striker\")[\"runs_batter\"].agg(lambda x: (x==6).sum()).reset_index().sort_values(by=\"striker\",ascending=False).reset_index(drop=True)\n",
    "batter_six.columns = [\"striker\",\"Number of 6s\"]\n",
    "batter_six.head()"
   ]
  },
  {
   "cell_type": "markdown",
   "id": "de03351e",
   "metadata": {},
   "source": [
    "The total number of 6s for each player are shown above."
   ]
  },
  {
   "cell_type": "code",
   "execution_count": 33,
   "id": "fe2e429d",
   "metadata": {},
   "outputs": [
    {
     "data": {
      "text/html": [
       "<div>\n",
       "<style scoped>\n",
       "    .dataframe tbody tr th:only-of-type {\n",
       "        vertical-align: middle;\n",
       "    }\n",
       "\n",
       "    .dataframe tbody tr th {\n",
       "        vertical-align: top;\n",
       "    }\n",
       "\n",
       "    .dataframe thead th {\n",
       "        text-align: right;\n",
       "    }\n",
       "</style>\n",
       "<table border=\"1\" class=\"dataframe\">\n",
       "  <thead>\n",
       "    <tr style=\"text-align: right;\">\n",
       "      <th></th>\n",
       "      <th>striker</th>\n",
       "      <th>strike_rate</th>\n",
       "    </tr>\n",
       "  </thead>\n",
       "  <tbody>\n",
       "    <tr>\n",
       "      <th>0</th>\n",
       "      <td>PN Mankad</td>\n",
       "      <td>400.000000</td>\n",
       "    </tr>\n",
       "    <tr>\n",
       "      <th>1</th>\n",
       "      <td>B Stanlake</td>\n",
       "      <td>250.000000</td>\n",
       "    </tr>\n",
       "    <tr>\n",
       "      <th>2</th>\n",
       "      <td>Umar Gul</td>\n",
       "      <td>205.263158</td>\n",
       "    </tr>\n",
       "    <tr>\n",
       "      <th>3</th>\n",
       "      <td>RS Sodhi</td>\n",
       "      <td>200.000000</td>\n",
       "    </tr>\n",
       "    <tr>\n",
       "      <th>4</th>\n",
       "      <td>TH David</td>\n",
       "      <td>198.936170</td>\n",
       "    </tr>\n",
       "  </tbody>\n",
       "</table>\n",
       "</div>"
      ],
      "text/plain": [
       "      striker  strike_rate\n",
       "0   PN Mankad   400.000000\n",
       "1  B Stanlake   250.000000\n",
       "2    Umar Gul   205.263158\n",
       "3    RS Sodhi   200.000000\n",
       "4    TH David   198.936170"
      ]
     },
     "execution_count": 33,
     "metadata": {},
     "output_type": "execute_result"
    }
   ],
   "source": [
    "batter_strike_df= pd.merge(Batsman_score,bat_ball_face,on=\"striker\",how='outer')\n",
    "batter_strike_df[\"strike_rate\"]= (batter_strike_df[\"runs_batter\"]/batter_strike_df[\"ball_num\"])*100\n",
    "batter_strike_df= batter_strike_df[[\"striker\",\"strike_rate\"]]\n",
    "batter_strike_df=batter_strike_df.sort_values(by=\"strike_rate\",ascending=False).reset_index(drop=True)\n",
    "batter_strike_df.head()"
   ]
  },
  {
   "cell_type": "markdown",
   "id": "f79195c7",
   "metadata": {},
   "source": [
    "The strike rate for each player is shown above."
   ]
  },
  {
   "cell_type": "code",
   "execution_count": 34,
   "id": "46712107",
   "metadata": {},
   "outputs": [],
   "source": [
    "diss_matches_df = deliveries[[\"match_id\",\"player_dismissed\"]]\n",
    "diss_matches_df =diss_matches_df .groupby(\"player_dismissed\")[\"match_id\"].count().reset_index().sort_values(by=\"match_id\",ascending=False).reset_index(drop=True)\n",
    "diss_matches_df.columns=[\"striker\",\"Number of matches\"]"
   ]
  },
  {
   "cell_type": "code",
   "execution_count": 35,
   "id": "38b5f6ef",
   "metadata": {},
   "outputs": [
    {
     "data": {
      "text/html": [
       "<div>\n",
       "<style scoped>\n",
       "    .dataframe tbody tr th:only-of-type {\n",
       "        vertical-align: middle;\n",
       "    }\n",
       "\n",
       "    .dataframe tbody tr th {\n",
       "        vertical-align: top;\n",
       "    }\n",
       "\n",
       "    .dataframe thead th {\n",
       "        text-align: right;\n",
       "    }\n",
       "</style>\n",
       "<table border=\"1\" class=\"dataframe\">\n",
       "  <thead>\n",
       "    <tr style=\"text-align: right;\">\n",
       "      <th></th>\n",
       "      <th>striker</th>\n",
       "      <th>runs_batter</th>\n",
       "      <th>Number of matches</th>\n",
       "      <th>Average</th>\n",
       "    </tr>\n",
       "  </thead>\n",
       "  <tbody>\n",
       "    <tr>\n",
       "      <th>0</th>\n",
       "      <td>MN van Wyk</td>\n",
       "      <td>167</td>\n",
       "      <td>3</td>\n",
       "      <td>55.666667</td>\n",
       "    </tr>\n",
       "    <tr>\n",
       "      <th>1</th>\n",
       "      <td>KL Rahul</td>\n",
       "      <td>3895</td>\n",
       "      <td>83</td>\n",
       "      <td>46.927711</td>\n",
       "    </tr>\n",
       "    <tr>\n",
       "      <th>2</th>\n",
       "      <td>AC Voges</td>\n",
       "      <td>181</td>\n",
       "      <td>4</td>\n",
       "      <td>45.250000</td>\n",
       "    </tr>\n",
       "    <tr>\n",
       "      <th>3</th>\n",
       "      <td>HM Amla</td>\n",
       "      <td>577</td>\n",
       "      <td>13</td>\n",
       "      <td>44.384615</td>\n",
       "    </tr>\n",
       "    <tr>\n",
       "      <th>4</th>\n",
       "      <td>Iqbal Abdulla</td>\n",
       "      <td>88</td>\n",
       "      <td>2</td>\n",
       "      <td>44.000000</td>\n",
       "    </tr>\n",
       "  </tbody>\n",
       "</table>\n",
       "</div>"
      ],
      "text/plain": [
       "         striker  runs_batter  Number of matches    Average\n",
       "0     MN van Wyk          167                  3  55.666667\n",
       "1       KL Rahul         3895                 83  46.927711\n",
       "2       AC Voges          181                  4  45.250000\n",
       "3        HM Amla          577                 13  44.384615\n",
       "4  Iqbal Abdulla           88                  2  44.000000"
      ]
     },
     "execution_count": 35,
     "metadata": {},
     "output_type": "execute_result"
    }
   ],
   "source": [
    "batter_avg=pd.merge(Batsman_score,diss_matches_df ,on=\"striker\")\n",
    "batter_avg[\"Average\"]=(batter_avg[\"runs_batter\"]/batter_avg[\"Number of matches\"])\n",
    "batter_avg=batter_avg.sort_values(by=\"Average\",ascending=False).reset_index(drop=True)\n",
    "batter_avg.head()"
   ]
  },
  {
   "cell_type": "markdown",
   "id": "d65a449b",
   "metadata": {},
   "source": [
    "The averages of each player are printed above."
   ]
  },
  {
   "cell_type": "code",
   "execution_count": 36,
   "id": "2e7e9634",
   "metadata": {},
   "outputs": [
    {
     "data": {
      "text/plain": [
       "Text(0.5, 1.0, 'The total number of runs for all players over all time')"
      ]
     },
     "execution_count": 36,
     "metadata": {},
     "output_type": "execute_result"
    },
    {
     "data": {
      "image/png": "[encoded data removed]",
      "text/plain": [
       "<Figure size 432x288 with 1 Axes>"
      ]
     },
     "metadata": {},
     "output_type": "display_data"
    }
   ],
   "source": [
    "Top_batsman_score = Batsman_score.iloc[:10,:]\n",
    "labels = np.array(Top_batsman_score['striker'])\n",
    "ind = np.arange(len(labels)) \n",
    "fig, ax = plt.subplots() \n",
    "depict = ax.bar(ind, np.array(Top_batsman_score['runs_batter']))\n",
    "ax.set_xticklabels(labels, rotation='vertical') \n",
    "ax.set_ylabel(\"Count\")\n",
    "ax.set_title(\"The total number of runs for all players over all time\")\n"
   ]
  },
  {
   "cell_type": "markdown",
   "id": "147c1b35",
   "metadata": {},
   "source": [
    "The total number of runs for all players over all time is shown above"
   ]
  },
  {
   "cell_type": "code",
   "execution_count": 37,
   "id": "e9c58a86",
   "metadata": {},
   "outputs": [],
   "source": [
    "batsmen = cricket[['match_id','season']].merge(batsmen, left_on = 'match_id', right_on = 'match_id', how = 'left').drop('match_id', axis = 1)"
   ]
  },
  {
   "cell_type": "code",
   "execution_count": 38,
   "id": "2ad227f0",
   "metadata": {},
   "outputs": [
    {
     "data": {
      "image/png": "[encoded data removed]",
      "text/plain": [
       "<Figure size 432x288 with 1 Axes>"
      ]
     },
     "metadata": {},
     "output_type": "display_data"
    }
   ],
   "source": [
    "batsman_runsperseason = batsmen.groupby(['season', 'striker'])['runs_batter'].sum().reset_index()\n",
    "batsman_runsperseason = batsman_runsperseason.groupby(['season', 'striker'])['runs_batter'].sum().unstack().T\n",
    "batsman_runsperseason['Total'] = batsman_runsperseason.sum(axis=1) #add total column to find batsman with the highest runs\n",
    "batsman_runsperseason = batsman_runsperseason.sort_values(by = 'Total', ascending = False).drop('Total', 1)\n",
    "ax = batsman_runsperseason[:5].T.plot()"
   ]
  },
  {
   "cell_type": "markdown",
   "id": "f6c61e7e",
   "metadata": {},
   "source": [
    "From the graph we can single out V Kohli as an example and summarize the his performance has been increasing over the years, but started to go down after 2016"
   ]
  },
  {
   "cell_type": "code",
   "execution_count": 39,
   "id": "1c07f28c",
   "metadata": {},
   "outputs": [
    {
     "data": {
      "text/plain": [
       "Text(0.5, 1.0, 'averages for all batsmen given minimum of 500 runs')"
      ]
     },
     "execution_count": 39,
     "metadata": {},
     "output_type": "execute_result"
    },
    {
     "data": {
      "image/png": "[encoded data removed]",
      "text/plain": [
       "<Figure size 432x288 with 1 Axes>"
      ]
     },
     "metadata": {},
     "output_type": "display_data"
    }
   ],
   "source": [
    "batter_avgreduce = batter_avg.iloc[:10,:]\n",
    "labels = np.array(batter_avgreduce['striker'])\n",
    "ind = np.arange(len(labels))\n",
    "fig, ax = plt.subplots() # for figure\n",
    "depict = ax.bar(ind, np.array(batter_avgreduce[\"Average\"]))\n",
    "ax.set_xticklabels(labels, rotation='vertical') \n",
    "ax.set_ylabel(\"Average\")\n",
    "ax.set_title(\"averages for all batsmen given minimum of 500 runs\")"
   ]
  },
  {
   "cell_type": "markdown",
   "id": "ae6875cd",
   "metadata": {},
   "source": [
    "The averages for all batsmen given minimum of 500 runs is shown above."
   ]
  },
  {
   "cell_type": "code",
   "execution_count": 40,
   "id": "7bea1c14",
   "metadata": {},
   "outputs": [
    {
     "data": {
      "text/html": [
       "<div>\n",
       "<style scoped>\n",
       "    .dataframe tbody tr th:only-of-type {\n",
       "        vertical-align: middle;\n",
       "    }\n",
       "\n",
       "    .dataframe tbody tr th {\n",
       "        vertical-align: top;\n",
       "    }\n",
       "\n",
       "    .dataframe thead th {\n",
       "        text-align: right;\n",
       "    }\n",
       "</style>\n",
       "<table border=\"1\" class=\"dataframe\">\n",
       "  <thead>\n",
       "    <tr style=\"text-align: right;\">\n",
       "      <th></th>\n",
       "      <th>striker</th>\n",
       "      <th>Number of 6s</th>\n",
       "    </tr>\n",
       "  </thead>\n",
       "  <tbody>\n",
       "    <tr>\n",
       "      <th>496</th>\n",
       "      <td>CH Gayle</td>\n",
       "      <td>359</td>\n",
       "    </tr>\n",
       "    <tr>\n",
       "      <th>577</th>\n",
       "      <td>AB de Villiers</td>\n",
       "      <td>253</td>\n",
       "    </tr>\n",
       "    <tr>\n",
       "      <th>174</th>\n",
       "      <td>RG Sharma</td>\n",
       "      <td>241</td>\n",
       "    </tr>\n",
       "    <tr>\n",
       "      <th>265</th>\n",
       "      <td>MS Dhoni</td>\n",
       "      <td>229</td>\n",
       "    </tr>\n",
       "    <tr>\n",
       "      <th>353</th>\n",
       "      <td>KA Pollard</td>\n",
       "      <td>224</td>\n",
       "    </tr>\n",
       "  </tbody>\n",
       "</table>\n",
       "</div>"
      ],
      "text/plain": [
       "            striker  Number of 6s\n",
       "496        CH Gayle           359\n",
       "577  AB de Villiers           253\n",
       "174       RG Sharma           241\n",
       "265        MS Dhoni           229\n",
       "353      KA Pollard           224"
      ]
     },
     "execution_count": 40,
     "metadata": {},
     "output_type": "execute_result"
    }
   ],
   "source": [
    "batter_six.sort_values(by='Number of 6s', ascending=False).head()"
   ]
  },
  {
   "cell_type": "markdown",
   "id": "02b57768",
   "metadata": {},
   "source": [
    "We showed the players who have hit the most sixes, they are CH Gayle, AB de Villiers, RG Sharma etc."
   ]
  },
  {
   "cell_type": "code",
   "execution_count": 41,
   "id": "d58c6945",
   "metadata": {},
   "outputs": [
    {
     "data": {
      "text/plain": [
       "<AxesSubplot:>"
      ]
     },
     "execution_count": 41,
     "metadata": {},
     "output_type": "execute_result"
    },
    {
     "data": {
      "image/png": "[encoded data removed]",
      "text/plain": [
       "<Figure size 432x288 with 2 Axes>"
      ]
     },
     "metadata": {},
     "output_type": "display_data"
    }
   ],
   "source": [
    "cor = batsmen[['runs_batter','6s']].corr()\n",
    "sns.heatmap(cor,annot=True)"
   ]
  },
  {
   "cell_type": "markdown",
   "id": "ef815141",
   "metadata": {},
   "source": [
    "There is a strong correlation between the number of sixes scored and the number of runs scored."
   ]
  },
  {
   "cell_type": "code",
   "execution_count": 42,
   "id": "bfb17da7",
   "metadata": {},
   "outputs": [
    {
     "data": {
      "text/plain": [
       "<AxesSubplot:>"
      ]
     },
     "execution_count": 42,
     "metadata": {},
     "output_type": "execute_result"
    },
    {
     "data": {
      "image/png": "[encoded data removed]",
      "text/plain": [
       "<Figure size 432x288 with 2 Axes>"
      ]
     },
     "metadata": {},
     "output_type": "display_data"
    }
   ],
   "source": [
    "cor=batter_avg[['runs_batter','Average']].corr()\n",
    "sns.heatmap(cor,annot=True)"
   ]
  },
  {
   "cell_type": "markdown",
   "id": "8dba553a",
   "metadata": {},
   "source": [
    "There is also a strong correlation between runs scored and the average"
   ]
  },
  {
   "cell_type": "markdown",
   "id": "6930f349",
   "metadata": {},
   "source": [
    "Therefore we can summarize that there strong correlation between runs scored, average,\n",
    "strike rate, and number of sixes"
   ]
  },
  {
   "cell_type": "markdown",
   "id": "7b3b5929",
   "metadata": {},
   "source": [
    "### 3.9 Bowlers"
   ]
  },
  {
   "cell_type": "code",
   "execution_count": 43,
   "id": "33014ff5",
   "metadata": {},
   "outputs": [],
   "source": [
    "bowler_grp = deliveries.groupby([\"match_id\", \"inning\", \"bowler\", \"over\"])\n",
    "bowlers = bowler_grp[\"runs_total\",\"extras_bowler\",\"runs_extras\"].sum().reset_index()\n",
    "bowlers[\"runs\"] = bowlers[\"runs_total\"] - (bowlers[\"runs_extras\"] + bowlers[\"extras_bowler\"])\n",
    "sent_off_how = [\"bowled\", \"caught\", \"lbw\", \"stumped\", \"caught and bowled\", \"hit wicket\"]\n",
    "sent_off = deliveries[deliveries[\"how_out\"].isin(sent_off_how)]\n",
    "sent_off = sent_off.groupby([\"match_id\", \"inning\", \"bowler\", \"over\"])[\"how_out\"].count().reset_index()\n",
    "sent_off.rename(columns={\"how_out\": \"wickets\"}, inplace=True)\n",
    "bowlers = bowlers.merge(sent_off, left_on=[\"match_id\", \"inning\", \"bowler\", \"over\"], \n",
    "                        right_on=[\"match_id\", \"inning\", \"bowler\", \"over\"], how=\"left\")\n",
    "bowlers[\"wickets\"] = bowlers[\"wickets\"].fillna(0)\n",
    "bowlers_over = bowlers.groupby(['match_id', 'inning', 'bowler'])['over'].count().reset_index()\n",
    "bowlers = bowlers.groupby(['match_id', 'inning', 'bowler']).sum().reset_index().drop('over', 1)\n",
    "bowlers = bowlers_over.merge(bowlers, on=[\"match_id\", \"inning\", \"bowler\"], how = 'left')\n",
    "bowlers = cricket[['match_id','season']].merge(bowlers, left_on = 'match_id', right_on = 'match_id', how = 'left')"
   ]
  },
  {
   "cell_type": "code",
   "execution_count": 44,
   "id": "8cea6014",
   "metadata": {},
   "outputs": [
    {
     "data": {
      "text/html": [
       "<div>\n",
       "<style scoped>\n",
       "    .dataframe tbody tr th:only-of-type {\n",
       "        vertical-align: middle;\n",
       "    }\n",
       "\n",
       "    .dataframe tbody tr th {\n",
       "        vertical-align: top;\n",
       "    }\n",
       "\n",
       "    .dataframe thead th {\n",
       "        text-align: right;\n",
       "    }\n",
       "</style>\n",
       "<table border=\"1\" class=\"dataframe\">\n",
       "  <thead>\n",
       "    <tr style=\"text-align: right;\">\n",
       "      <th></th>\n",
       "      <th>match_id</th>\n",
       "      <th>season</th>\n",
       "      <th>inning</th>\n",
       "      <th>bowler</th>\n",
       "      <th>over</th>\n",
       "      <th>runs_total</th>\n",
       "      <th>extras_bowler</th>\n",
       "      <th>runs_extras</th>\n",
       "      <th>runs</th>\n",
       "      <th>wickets</th>\n",
       "    </tr>\n",
       "  </thead>\n",
       "  <tbody>\n",
       "    <tr>\n",
       "      <th>11248</th>\n",
       "      <td>1136596</td>\n",
       "      <td>2018</td>\n",
       "      <td>2</td>\n",
       "      <td>Avesh Khan</td>\n",
       "      <td>3</td>\n",
       "      <td>47</td>\n",
       "      <td>1</td>\n",
       "      <td>1</td>\n",
       "      <td>45</td>\n",
       "      <td>0.0</td>\n",
       "    </tr>\n",
       "    <tr>\n",
       "      <th>11249</th>\n",
       "      <td>1136596</td>\n",
       "      <td>2018</td>\n",
       "      <td>2</td>\n",
       "      <td>DT Christian</td>\n",
       "      <td>4</td>\n",
       "      <td>37</td>\n",
       "      <td>0</td>\n",
       "      <td>0</td>\n",
       "      <td>37</td>\n",
       "      <td>0.0</td>\n",
       "    </tr>\n",
       "    <tr>\n",
       "      <th>11250</th>\n",
       "      <td>1136596</td>\n",
       "      <td>2018</td>\n",
       "      <td>2</td>\n",
       "      <td>GJ Maxwell</td>\n",
       "      <td>1</td>\n",
       "      <td>4</td>\n",
       "      <td>0</td>\n",
       "      <td>0</td>\n",
       "      <td>4</td>\n",
       "      <td>0.0</td>\n",
       "    </tr>\n",
       "    <tr>\n",
       "      <th>11251</th>\n",
       "      <td>1136596</td>\n",
       "      <td>2018</td>\n",
       "      <td>2</td>\n",
       "      <td>LE Plunkett</td>\n",
       "      <td>4</td>\n",
       "      <td>27</td>\n",
       "      <td>1</td>\n",
       "      <td>1</td>\n",
       "      <td>25</td>\n",
       "      <td>1.0</td>\n",
       "    </tr>\n",
       "    <tr>\n",
       "      <th>11252</th>\n",
       "      <td>1136596</td>\n",
       "      <td>2018</td>\n",
       "      <td>2</td>\n",
       "      <td>TA Boult</td>\n",
       "      <td>4</td>\n",
       "      <td>30</td>\n",
       "      <td>3</td>\n",
       "      <td>3</td>\n",
       "      <td>24</td>\n",
       "      <td>0.0</td>\n",
       "    </tr>\n",
       "  </tbody>\n",
       "</table>\n",
       "</div>"
      ],
      "text/plain": [
       "       match_id season  inning        bowler  over  runs_total  extras_bowler  \\\n",
       "11248   1136596   2018       2    Avesh Khan     3          47              1   \n",
       "11249   1136596   2018       2  DT Christian     4          37              0   \n",
       "11250   1136596   2018       2    GJ Maxwell     1           4              0   \n",
       "11251   1136596   2018       2   LE Plunkett     4          27              1   \n",
       "11252   1136596   2018       2      TA Boult     4          30              3   \n",
       "\n",
       "       runs_extras  runs  wickets  \n",
       "11248            1    45      0.0  \n",
       "11249            0    37      0.0  \n",
       "11250            0     4      0.0  \n",
       "11251            1    25      1.0  \n",
       "11252            3    24      0.0  "
      ]
     },
     "execution_count": 44,
     "metadata": {},
     "output_type": "execute_result"
    }
   ],
   "source": [
    "bowlers.tail(5)"
   ]
  },
  {
   "cell_type": "markdown",
   "id": "47cedd62",
   "metadata": {},
   "source": [
    "The total number of wickets,runs scored off for each bowler are showed above"
   ]
  },
  {
   "cell_type": "code",
   "execution_count": 45,
   "id": "4c47f1bf",
   "metadata": {},
   "outputs": [
    {
     "data": {
      "text/html": [
       "<div>\n",
       "<style scoped>\n",
       "    .dataframe tbody tr th:only-of-type {\n",
       "        vertical-align: middle;\n",
       "    }\n",
       "\n",
       "    .dataframe tbody tr th {\n",
       "        vertical-align: top;\n",
       "    }\n",
       "\n",
       "    .dataframe thead th {\n",
       "        text-align: right;\n",
       "    }\n",
       "</style>\n",
       "<table border=\"1\" class=\"dataframe\">\n",
       "  <thead>\n",
       "    <tr style=\"text-align: right;\">\n",
       "      <th></th>\n",
       "      <th>match_id</th>\n",
       "      <th>inning</th>\n",
       "      <th>bowler</th>\n",
       "      <th>ball_num</th>\n",
       "    </tr>\n",
       "  </thead>\n",
       "  <tbody>\n",
       "    <tr>\n",
       "      <th>0</th>\n",
       "      <td>335982</td>\n",
       "      <td>1</td>\n",
       "      <td>AA Noffke</td>\n",
       "      <td>25</td>\n",
       "    </tr>\n",
       "    <tr>\n",
       "      <th>1</th>\n",
       "      <td>335982</td>\n",
       "      <td>1</td>\n",
       "      <td>CL White</td>\n",
       "      <td>7</td>\n",
       "    </tr>\n",
       "    <tr>\n",
       "      <th>2</th>\n",
       "      <td>335982</td>\n",
       "      <td>1</td>\n",
       "      <td>JH Kallis</td>\n",
       "      <td>25</td>\n",
       "    </tr>\n",
       "    <tr>\n",
       "      <th>3</th>\n",
       "      <td>335982</td>\n",
       "      <td>1</td>\n",
       "      <td>P Kumar</td>\n",
       "      <td>25</td>\n",
       "    </tr>\n",
       "    <tr>\n",
       "      <th>4</th>\n",
       "      <td>335982</td>\n",
       "      <td>1</td>\n",
       "      <td>SB Joshi</td>\n",
       "      <td>18</td>\n",
       "    </tr>\n",
       "  </tbody>\n",
       "</table>\n",
       "</div>"
      ],
      "text/plain": [
       "   match_id  inning     bowler  ball_num\n",
       "0    335982       1  AA Noffke        25\n",
       "1    335982       1   CL White         7\n",
       "2    335982       1  JH Kallis        25\n",
       "3    335982       1    P Kumar        25\n",
       "4    335982       1   SB Joshi        18"
      ]
     },
     "execution_count": 45,
     "metadata": {},
     "output_type": "execute_result"
    }
   ],
   "source": [
    "bowler_faced = deliveries.groupby([\"match_id\", \"inning\", \"bowler\"])[\"ball_num\"].count().reset_index()\n",
    "bowler_faced.head(5)"
   ]
  },
  {
   "cell_type": "markdown",
   "id": "fee3b8ef",
   "metadata": {},
   "source": [
    "The total number of deliveries for each bowler are shown above in the ball_num column."
   ]
  },
  {
   "cell_type": "code",
   "execution_count": 46,
   "id": "b10022e3",
   "metadata": {},
   "outputs": [
    {
     "data": {
      "text/html": [
       "<div>\n",
       "<style scoped>\n",
       "    .dataframe tbody tr th:only-of-type {\n",
       "        vertical-align: middle;\n",
       "    }\n",
       "\n",
       "    .dataframe tbody tr th {\n",
       "        vertical-align: top;\n",
       "    }\n",
       "\n",
       "    .dataframe thead th {\n",
       "        text-align: right;\n",
       "    }\n",
       "</style>\n",
       "<table border=\"1\" class=\"dataframe\">\n",
       "  <thead>\n",
       "    <tr style=\"text-align: right;\">\n",
       "      <th></th>\n",
       "      <th>bowler</th>\n",
       "      <th>Wickets</th>\n",
       "    </tr>\n",
       "  </thead>\n",
       "  <tbody>\n",
       "    <tr>\n",
       "      <th>0</th>\n",
       "      <td>DJ Bravo</td>\n",
       "      <td>183</td>\n",
       "    </tr>\n",
       "    <tr>\n",
       "      <th>1</th>\n",
       "      <td>SL Malinga</td>\n",
       "      <td>170</td>\n",
       "    </tr>\n",
       "    <tr>\n",
       "      <th>2</th>\n",
       "      <td>YS Chahal</td>\n",
       "      <td>166</td>\n",
       "    </tr>\n",
       "    <tr>\n",
       "      <th>3</th>\n",
       "      <td>A Mishra</td>\n",
       "      <td>166</td>\n",
       "    </tr>\n",
       "    <tr>\n",
       "      <th>4</th>\n",
       "      <td>R Ashwin</td>\n",
       "      <td>157</td>\n",
       "    </tr>\n",
       "  </tbody>\n",
       "</table>\n",
       "</div>"
      ],
      "text/plain": [
       "       bowler  Wickets\n",
       "0    DJ Bravo      183\n",
       "1  SL Malinga      170\n",
       "2   YS Chahal      166\n",
       "3    A Mishra      166\n",
       "4    R Ashwin      157"
      ]
     },
     "execution_count": 46,
     "metadata": {},
     "output_type": "execute_result"
    }
   ],
   "source": [
    "wicket_by_bowlert = deliveries[deliveries[\"how_out\"] != \"run out\"]\n",
    "wicket_by_bowlert= wicket_by_bowlert[[\"bowler\",\"player_dismissed\"]]\n",
    "wicket_by_bowlert = wicket_by_bowlert.dropna()\n",
    "wicket_by_bowlert= wicket_by_bowlert.groupby(\"bowler\")[\"player_dismissed\"].count().reset_index().sort_values(by=\"player_dismissed\",ascending=False).reset_index(drop=True)\n",
    "wicket_by_bowlert.columns=[\"bowler\",\"Wickets\"]\n",
    "wicket_by_bowlert.iloc[:5,:]"
   ]
  },
  {
   "cell_type": "markdown",
   "id": "1d22353a",
   "metadata": {},
   "source": [
    "The total number of wickets for each playerover all matches are shown above"
   ]
  },
  {
   "cell_type": "code",
   "execution_count": 47,
   "id": "a899d685",
   "metadata": {},
   "outputs": [],
   "source": [
    "Bowler_over= deliveries[deliveries[\"runs_extras\"]==0][[\"ball_num\",\"bowler\"]]\n",
    "Bowler_over= Bowler_over.groupby(\"bowler\")[\"ball_num\"].count().reset_index().sort_values(by=\"ball_num\",ascending=False).reset_index(drop=True)\n",
    "Bowler_over[\"No_of_Overs\"]=(Bowler_over[\"ball_num\"]/6)\n"
   ]
  },
  {
   "cell_type": "code",
   "execution_count": 48,
   "id": "2e158f4a",
   "metadata": {},
   "outputs": [
    {
     "data": {
      "text/html": [
       "<div>\n",
       "<style scoped>\n",
       "    .dataframe tbody tr th:only-of-type {\n",
       "        vertical-align: middle;\n",
       "    }\n",
       "\n",
       "    .dataframe tbody tr th {\n",
       "        vertical-align: top;\n",
       "    }\n",
       "\n",
       "    .dataframe thead th {\n",
       "        text-align: right;\n",
       "    }\n",
       "</style>\n",
       "<table border=\"1\" class=\"dataframe\">\n",
       "  <thead>\n",
       "    <tr style=\"text-align: right;\">\n",
       "      <th></th>\n",
       "      <th>bowler</th>\n",
       "      <th>bowling_runs_total</th>\n",
       "    </tr>\n",
       "  </thead>\n",
       "  <tbody>\n",
       "    <tr>\n",
       "      <th>0</th>\n",
       "      <td>R Ashwin</td>\n",
       "      <td>4596</td>\n",
       "    </tr>\n",
       "    <tr>\n",
       "      <th>1</th>\n",
       "      <td>DJ Bravo</td>\n",
       "      <td>4436</td>\n",
       "    </tr>\n",
       "    <tr>\n",
       "      <th>2</th>\n",
       "      <td>PP Chawla</td>\n",
       "      <td>4368</td>\n",
       "    </tr>\n",
       "    <tr>\n",
       "      <th>3</th>\n",
       "      <td>RA Jadeja</td>\n",
       "      <td>4114</td>\n",
       "    </tr>\n",
       "    <tr>\n",
       "      <th>4</th>\n",
       "      <td>Harbhajan Singh</td>\n",
       "      <td>4101</td>\n",
       "    </tr>\n",
       "  </tbody>\n",
       "</table>\n",
       "</div>"
      ],
      "text/plain": [
       "            bowler  bowling_runs_total\n",
       "0         R Ashwin                4596\n",
       "1         DJ Bravo                4436\n",
       "2        PP Chawla                4368\n",
       "3        RA Jadeja                4114\n",
       "4  Harbhajan Singh                4101"
      ]
     },
     "execution_count": 48,
     "metadata": {},
     "output_type": "execute_result"
    }
   ],
   "source": [
    "Bowler_Runs= deliveries.groupby(\"bowler\")[\"runs_total\"].sum().reset_index().sort_values(by=\"runs_total\",ascending=False).reset_index(drop=True)\n",
    "Bowler_Runs.columns=[\"bowler\",\"bowling_runs_total\"]\n",
    "Bowler_Runs.head()"
   ]
  },
  {
   "cell_type": "markdown",
   "id": "48f239a0",
   "metadata": {},
   "source": [
    "The total number of runs scored off their bowling are shown above."
   ]
  },
  {
   "cell_type": "code",
   "execution_count": 49,
   "id": "1f9ca64e",
   "metadata": {},
   "outputs": [],
   "source": [
    "Bow_eco= pd.merge(Bowler_Runs,Bowler_over,on=\"bowler\")"
   ]
  },
  {
   "cell_type": "code",
   "execution_count": 50,
   "id": "43e11fb0",
   "metadata": {},
   "outputs": [
    {
     "data": {
      "text/html": [
       "<div>\n",
       "<style scoped>\n",
       "    .dataframe tbody tr th:only-of-type {\n",
       "        vertical-align: middle;\n",
       "    }\n",
       "\n",
       "    .dataframe tbody tr th {\n",
       "        vertical-align: top;\n",
       "    }\n",
       "\n",
       "    .dataframe thead th {\n",
       "        text-align: right;\n",
       "    }\n",
       "</style>\n",
       "<table border=\"1\" class=\"dataframe\">\n",
       "  <thead>\n",
       "    <tr style=\"text-align: right;\">\n",
       "      <th></th>\n",
       "      <th>bowler</th>\n",
       "      <th>bowling_runs_total</th>\n",
       "      <th>ball_num</th>\n",
       "      <th>No_of_Overs</th>\n",
       "      <th>Economy_rate</th>\n",
       "    </tr>\n",
       "  </thead>\n",
       "  <tbody>\n",
       "    <tr>\n",
       "      <th>0</th>\n",
       "      <td>AC Gilchrist</td>\n",
       "      <td>0</td>\n",
       "      <td>1</td>\n",
       "      <td>0.166667</td>\n",
       "      <td>0.000000</td>\n",
       "    </tr>\n",
       "    <tr>\n",
       "      <th>1</th>\n",
       "      <td>Sachin Baby</td>\n",
       "      <td>8</td>\n",
       "      <td>10</td>\n",
       "      <td>1.666667</td>\n",
       "      <td>4.800000</td>\n",
       "    </tr>\n",
       "    <tr>\n",
       "      <th>2</th>\n",
       "      <td>AM Rahane</td>\n",
       "      <td>5</td>\n",
       "      <td>6</td>\n",
       "      <td>1.000000</td>\n",
       "      <td>5.000000</td>\n",
       "    </tr>\n",
       "    <tr>\n",
       "      <th>3</th>\n",
       "      <td>NB Singh</td>\n",
       "      <td>18</td>\n",
       "      <td>21</td>\n",
       "      <td>3.500000</td>\n",
       "      <td>5.142857</td>\n",
       "    </tr>\n",
       "    <tr>\n",
       "      <th>4</th>\n",
       "      <td>DJ Thornely</td>\n",
       "      <td>40</td>\n",
       "      <td>42</td>\n",
       "      <td>7.000000</td>\n",
       "      <td>5.714286</td>\n",
       "    </tr>\n",
       "  </tbody>\n",
       "</table>\n",
       "</div>"
      ],
      "text/plain": [
       "         bowler  bowling_runs_total  ball_num  No_of_Overs  Economy_rate\n",
       "0  AC Gilchrist                   0         1     0.166667      0.000000\n",
       "1   Sachin Baby                   8        10     1.666667      4.800000\n",
       "2     AM Rahane                   5         6     1.000000      5.000000\n",
       "3      NB Singh                  18        21     3.500000      5.142857\n",
       "4   DJ Thornely                  40        42     7.000000      5.714286"
      ]
     },
     "execution_count": 50,
     "metadata": {},
     "output_type": "execute_result"
    }
   ],
   "source": [
    "Bow_eco[\"Economy_rate\"]=Bow_eco[\"bowling_runs_total\"]/Bow_eco[\"No_of_Overs\"]\n",
    "Bow_eco=Bow_eco.sort_values(by=\"Economy_rate\").reset_index(drop=True)\n",
    "Bow_eco.iloc[:5,:]"
   ]
  },
  {
   "cell_type": "markdown",
   "id": "483a99c3",
   "metadata": {},
   "source": [
    "The bowling economy for each player is shown above."
   ]
  },
  {
   "cell_type": "code",
   "execution_count": 51,
   "id": "062c0a09",
   "metadata": {},
   "outputs": [
    {
     "data": {
      "text/html": [
       "<div>\n",
       "<style scoped>\n",
       "    .dataframe tbody tr th:only-of-type {\n",
       "        vertical-align: middle;\n",
       "    }\n",
       "\n",
       "    .dataframe tbody tr th {\n",
       "        vertical-align: top;\n",
       "    }\n",
       "\n",
       "    .dataframe thead th {\n",
       "        text-align: right;\n",
       "    }\n",
       "</style>\n",
       "<table border=\"1\" class=\"dataframe\">\n",
       "  <thead>\n",
       "    <tr style=\"text-align: right;\">\n",
       "      <th></th>\n",
       "      <th>bowler</th>\n",
       "      <th>bowling_runs_total</th>\n",
       "      <th>Wickets</th>\n",
       "      <th>Average</th>\n",
       "    </tr>\n",
       "  </thead>\n",
       "  <tbody>\n",
       "    <tr>\n",
       "      <th>0</th>\n",
       "      <td>AC Gilchrist</td>\n",
       "      <td>0</td>\n",
       "      <td>1</td>\n",
       "      <td>0.0</td>\n",
       "    </tr>\n",
       "    <tr>\n",
       "      <th>1</th>\n",
       "      <td>Sachin Baby</td>\n",
       "      <td>8</td>\n",
       "      <td>2</td>\n",
       "      <td>4.0</td>\n",
       "    </tr>\n",
       "    <tr>\n",
       "      <th>2</th>\n",
       "      <td>AM Rahane</td>\n",
       "      <td>5</td>\n",
       "      <td>1</td>\n",
       "      <td>5.0</td>\n",
       "    </tr>\n",
       "    <tr>\n",
       "      <th>3</th>\n",
       "      <td>SS Mundhe</td>\n",
       "      <td>6</td>\n",
       "      <td>1</td>\n",
       "      <td>6.0</td>\n",
       "    </tr>\n",
       "    <tr>\n",
       "      <th>4</th>\n",
       "      <td>A Badoni</td>\n",
       "      <td>12</td>\n",
       "      <td>2</td>\n",
       "      <td>6.0</td>\n",
       "    </tr>\n",
       "  </tbody>\n",
       "</table>\n",
       "</div>"
      ],
      "text/plain": [
       "         bowler  bowling_runs_total  Wickets  Average\n",
       "0  AC Gilchrist                   0        1      0.0\n",
       "1   Sachin Baby                   8        2      4.0\n",
       "2     AM Rahane                   5        1      5.0\n",
       "3     SS Mundhe                   6        1      6.0\n",
       "4      A Badoni                  12        2      6.0"
      ]
     },
     "execution_count": 51,
     "metadata": {},
     "output_type": "execute_result"
    }
   ],
   "source": [
    "Bowler_avg = pd.merge(Bowler_Runs,wicket_by_bowlert,on=\"bowler\")\n",
    "Bowler_avg[\"Average\"]=Bowler_avg[\"bowling_runs_total\"]/Bowler_avg[\"Wickets\"]\n",
    "Bowler_avg=Bowler_avg.sort_values(by=\"Average\").reset_index(drop=True)\n",
    "Bowler_avg.iloc[:5,:]"
   ]
  },
  {
   "cell_type": "markdown",
   "id": "9bad1d7e",
   "metadata": {},
   "source": [
    "The bowling average for each player is shown above."
   ]
  },
  {
   "cell_type": "code",
   "execution_count": 52,
   "id": "a2e1500e",
   "metadata": {},
   "outputs": [
    {
     "data": {
      "text/plain": [
       "<AxesSubplot:ylabel='bowler'>"
      ]
     },
     "execution_count": 52,
     "metadata": {},
     "output_type": "execute_result"
    },
    {
     "data": {
      "image/png": "[encoded data removed]",
      "text/plain": [
       "<Figure size 432x288 with 1 Axes>"
      ]
     },
     "metadata": {},
     "output_type": "display_data"
    }
   ],
   "source": [
    "bowlers_wickets = bowlers.groupby(['bowler'])['wickets'].sum()\n",
    "bowlers_wickets.sort_values(ascending = False, inplace = True)\n",
    "bowlers_wickets[:5].plot(x= 'bowler', y = 'runs', kind = 'barh')"
   ]
  },
  {
   "cell_type": "markdown",
   "id": "0cab6bf8",
   "metadata": {},
   "source": [
    "The distribution of wickets per player is shown above, and the top 5 players are DJ Bravo, SL Malinga, YS Chahal, A Mishra, R Ashwin"
   ]
  },
  {
   "cell_type": "code",
   "execution_count": 53,
   "id": "e41f53c4",
   "metadata": {},
   "outputs": [
    {
     "data": {
      "text/html": [
       "<div>\n",
       "<style scoped>\n",
       "    .dataframe tbody tr th:only-of-type {\n",
       "        vertical-align: middle;\n",
       "    }\n",
       "\n",
       "    .dataframe tbody tr th {\n",
       "        vertical-align: top;\n",
       "    }\n",
       "\n",
       "    .dataframe thead th {\n",
       "        text-align: right;\n",
       "    }\n",
       "</style>\n",
       "<table border=\"1\" class=\"dataframe\">\n",
       "  <thead>\n",
       "    <tr style=\"text-align: right;\">\n",
       "      <th></th>\n",
       "      <th>bowler</th>\n",
       "      <th>bowling_runs_total</th>\n",
       "      <th>ball_num</th>\n",
       "      <th>No_of_Overs</th>\n",
       "      <th>Economy_rate</th>\n",
       "    </tr>\n",
       "  </thead>\n",
       "  <tbody>\n",
       "    <tr>\n",
       "      <th>8</th>\n",
       "      <td>Mohsin Khan</td>\n",
       "      <td>202</td>\n",
       "      <td>196</td>\n",
       "      <td>32.666667</td>\n",
       "      <td>6.183673</td>\n",
       "    </tr>\n",
       "    <tr>\n",
       "      <th>9</th>\n",
       "      <td>A Chandila</td>\n",
       "      <td>245</td>\n",
       "      <td>232</td>\n",
       "      <td>38.666667</td>\n",
       "      <td>6.336207</td>\n",
       "    </tr>\n",
       "    <tr>\n",
       "      <th>12</th>\n",
       "      <td>SMSM Senanayake</td>\n",
       "      <td>211</td>\n",
       "      <td>190</td>\n",
       "      <td>31.666667</td>\n",
       "      <td>6.663158</td>\n",
       "    </tr>\n",
       "    <tr>\n",
       "      <th>13</th>\n",
       "      <td>Rashid Khan</td>\n",
       "      <td>2411</td>\n",
       "      <td>2166</td>\n",
       "      <td>361.000000</td>\n",
       "      <td>6.678670</td>\n",
       "    </tr>\n",
       "    <tr>\n",
       "      <th>15</th>\n",
       "      <td>SM Pollock</td>\n",
       "      <td>307</td>\n",
       "      <td>274</td>\n",
       "      <td>45.666667</td>\n",
       "      <td>6.722628</td>\n",
       "    </tr>\n",
       "  </tbody>\n",
       "</table>\n",
       "</div>"
      ],
      "text/plain": [
       "             bowler  bowling_runs_total  ball_num  No_of_Overs  Economy_rate\n",
       "8       Mohsin Khan                 202       196    32.666667      6.183673\n",
       "9        A Chandila                 245       232    38.666667      6.336207\n",
       "12  SMSM Senanayake                 211       190    31.666667      6.663158\n",
       "13      Rashid Khan                2411      2166   361.000000      6.678670\n",
       "15       SM Pollock                 307       274    45.666667      6.722628"
      ]
     },
     "execution_count": 53,
     "metadata": {},
     "output_type": "execute_result"
    }
   ],
   "source": [
    "Bow_eco=Bow_eco[Bow_eco[\"No_of_Overs\"]>20]\n",
    "Bow_eco.head()"
   ]
  },
  {
   "cell_type": "markdown",
   "id": "968b5ae1",
   "metadata": {},
   "source": [
    "The top 5 players with the lowest economy rate given that they have bowled at least 20 overs are shown above."
   ]
  },
  {
   "cell_type": "code",
   "execution_count": 54,
   "id": "e7bd371f",
   "metadata": {},
   "outputs": [
    {
     "data": {
      "text/plain": [
       "Text(0.5, 1.0, 'The economy rate when given more than 20 overs')"
      ]
     },
     "execution_count": 54,
     "metadata": {},
     "output_type": "execute_result"
    },
    {
     "data": {
      "image/png": "[encoded data removed]",
      "text/plain": [
       "<Figure size 432x288 with 1 Axes>"
      ]
     },
     "metadata": {},
     "output_type": "display_data"
    }
   ],
   "source": [
    "Bow_ecoreduce = Bow_eco.iloc[:5,:]\n",
    "labels = np.array(Bow_ecoreduce['bowler'])\n",
    "ind = np.arange(len(labels))\n",
    "fig, ax = plt.subplots()\n",
    "depict = ax.bar(ind, np.array(Bow_ecoreduce[\"Economy_rate\"]))\n",
    "ax.set_xticklabels(labels, rotation='vertical') \n",
    "ax.set_ylabel(\"Eeonomy\")\n",
    "ax.set_title(\"The economy rate when given more than 20 overs\")"
   ]
  },
  {
   "cell_type": "code",
   "execution_count": 55,
   "id": "d96682b3",
   "metadata": {},
   "outputs": [
    {
     "data": {
      "text/html": [
       "<div>\n",
       "<style scoped>\n",
       "    .dataframe tbody tr th:only-of-type {\n",
       "        vertical-align: middle;\n",
       "    }\n",
       "\n",
       "    .dataframe tbody tr th {\n",
       "        vertical-align: top;\n",
       "    }\n",
       "\n",
       "    .dataframe thead th {\n",
       "        text-align: right;\n",
       "    }\n",
       "</style>\n",
       "<table border=\"1\" class=\"dataframe\">\n",
       "  <thead>\n",
       "    <tr style=\"text-align: right;\">\n",
       "      <th></th>\n",
       "      <th>bowler</th>\n",
       "      <th>bowling_runs_total</th>\n",
       "      <th>Wickets</th>\n",
       "      <th>Average</th>\n",
       "    </tr>\n",
       "  </thead>\n",
       "  <tbody>\n",
       "    <tr>\n",
       "      <th>10</th>\n",
       "      <td>Sohail Tanvir</td>\n",
       "      <td>275</td>\n",
       "      <td>22</td>\n",
       "      <td>12.500000</td>\n",
       "    </tr>\n",
       "    <tr>\n",
       "      <th>17</th>\n",
       "      <td>A Zampa</td>\n",
       "      <td>373</td>\n",
       "      <td>21</td>\n",
       "      <td>17.761905</td>\n",
       "    </tr>\n",
       "    <tr>\n",
       "      <th>22</th>\n",
       "      <td>L Ngidi</td>\n",
       "      <td>460</td>\n",
       "      <td>25</td>\n",
       "      <td>18.400000</td>\n",
       "    </tr>\n",
       "    <tr>\n",
       "      <th>23</th>\n",
       "      <td>DE Bollinger</td>\n",
       "      <td>716</td>\n",
       "      <td>38</td>\n",
       "      <td>18.842105</td>\n",
       "    </tr>\n",
       "    <tr>\n",
       "      <th>24</th>\n",
       "      <td>PWH de Silva</td>\n",
       "      <td>499</td>\n",
       "      <td>26</td>\n",
       "      <td>19.192308</td>\n",
       "    </tr>\n",
       "  </tbody>\n",
       "</table>\n",
       "</div>"
      ],
      "text/plain": [
       "           bowler  bowling_runs_total  Wickets    Average\n",
       "10  Sohail Tanvir                 275       22  12.500000\n",
       "17        A Zampa                 373       21  17.761905\n",
       "22        L Ngidi                 460       25  18.400000\n",
       "23   DE Bollinger                 716       38  18.842105\n",
       "24   PWH de Silva                 499       26  19.192308"
      ]
     },
     "execution_count": 55,
     "metadata": {},
     "output_type": "execute_result"
    }
   ],
   "source": [
    "Bowler_avg= Bowler_avg[Bowler_avg[\"Wickets\"]>20]\n",
    "Bowler_avg.head()"
   ]
  },
  {
   "cell_type": "markdown",
   "id": "cee3e7f5",
   "metadata": {},
   "source": [
    "The top 5 bowlers with the lowest average are shown above"
   ]
  },
  {
   "cell_type": "code",
   "execution_count": 56,
   "id": "59de1e3e",
   "metadata": {},
   "outputs": [
    {
     "data": {
      "text/plain": [
       "<AxesSubplot:>"
      ]
     },
     "execution_count": 56,
     "metadata": {},
     "output_type": "execute_result"
    },
    {
     "data": {
      "image/png": "[encoded data removed]",
      "text/plain": [
       "<Figure size 432x288 with 2 Axes>"
      ]
     },
     "metadata": {},
     "output_type": "display_data"
    }
   ],
   "source": [
    "cor=Bowler_avg[['Wickets','Average']].corr()\n",
    "sns.heatmap(cor,annot=True)"
   ]
  },
  {
   "cell_type": "markdown",
   "id": "4d17f634",
   "metadata": {},
   "source": [
    "There is a low correlation between wickets and bowling average."
   ]
  },
  {
   "cell_type": "markdown",
   "id": "ef25fe23",
   "metadata": {},
   "source": [
    "There between wickets taken, bowling average, and economy\n",
    "rate"
   ]
  },
  {
   "cell_type": "code",
   "execution_count": 57,
   "id": "8e8d0c5c",
   "metadata": {},
   "outputs": [
    {
     "data": {
      "image/png": "[encoded data removed]",
      "text/plain": [
       "<Figure size 432x288 with 1 Axes>"
      ]
     },
     "metadata": {},
     "output_type": "display_data"
    }
   ],
   "source": [
    "man_of_match=cricket['mom'].value_counts()\n",
    "man_of_match=man_of_match[:5]\n",
    "sns.set_style(\"darkgrid\")\n",
    "man_of_matches=sns.barplot(man_of_match.index, man_of_match.values)\n",
    "plt.title('Most Player Of The Match')\n",
    "plt.ylabel('Count')\n",
    "plt.xlabel('Man of the match')\n",
    "man_of_matches.set_xticklabels(rotation=90,labels=man_of_match.index)\n",
    "plt.show()"
   ]
  },
  {
   "cell_type": "markdown",
   "id": "156f4a9d",
   "metadata": {},
   "source": [
    "The above plot shows how frequently a player recieved the man of the match award. We can see that AB de Villiers is the top player followed by CG Gayle"
   ]
  },
  {
   "cell_type": "code",
   "execution_count": null,
   "id": "02216717",
   "metadata": {},
   "outputs": [],
   "source": []
  }
 ],
 "metadata": {
  "kernelspec": {
   "display_name": "Python 3 (ipykernel)",
   "language": "python",
   "name": "python3"
  },
  "language_info": {
   "codemirror_mode": {
    "name": "ipython",
    "version": 3
   },
   "file_extension": ".py",
   "mimetype": "text/x-python",
   "name": "python",
   "nbconvert_exporter": "python",
   "pygments_lexer": "ipython3",
   "version": "3.9.13"
  }
 },
 "nbformat": 4,
 "nbformat_minor": 5
}
